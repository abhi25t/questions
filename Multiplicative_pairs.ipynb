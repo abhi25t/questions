{
 "cells": [
  {
   "cell_type": "markdown",
   "metadata": {},
   "source": [
    "### Question\n",
    "\n",
    "Arrays A and B consisting of N non-negative integers are given. Together, they represent N real numbers, denoted as C[0], ..., C[N−1]. Elements of A represent the integer parts and the corresponding elements of B (divided by 1,000,000) represent the fractional parts of the elements of C. More formally, A[I] and B[I] represent C[I] = A[I] + B[I] / 1,000,000.\n",
    "\n",
    "For example, consider the following arrays A and B:\n",
    "\n",
    "  A[0] = 0\tB[0] = 500,000\n",
    "  \n",
    "  A[1] = 1\tB[1] = 500,000\n",
    "  \n",
    "  A[2] = 2\tB[2] = 0\n",
    "  \n",
    "  A[3] = 2      B[3] = 0\n",
    "  \n",
    "  A[4] = 3\tB[4] = 0\n",
    "  \n",
    "  A[5] = 5\tB[5] = 20,000\n",
    "\n",
    "They represent the following real numbers:\n",
    "  C[0] = 0.5\n",
    "  C[1] = 1.5\n",
    "  C[2] = 2.0\n",
    "  C[3] = 2.0\n",
    "  C[4] = 3.0\n",
    "  C[5] = 5.02\n",
    "\n",
    "A pair of indices (P, Q) is multiplicative if 0 ≤ P < Q < N and C[P] * C[Q] ≥ C[P] + C[Q].\n",
    "\n",
    "The above arrays yield the following multiplicative pairs:\n",
    "\n",
    "        (1, 4), because 1.5 * 3.0 = 4.5 ≥ 4.5 = 1.5 + 3.0,\n",
    "        (1, 5), because 1.5 * 5.02 = 7.53 ≥ 6.52 = 1.5 + 5.02,\n",
    "        (2, 3), because 2.0 * 2.0 = 4.0 ≥ 4.0 = 2.0 + 2.0,\n",
    "        (2, 4) and (3, 4), because 2.0 * 3.0 = 6.0 ≥ 5.0 = 2.0 + 3.0.\n",
    "        (2, 5) and (3, 5), because 2.0 * 5.02 = 10.04 ≥ 7.02 = 2.0 + 5.02.\n",
    "        (4, 5), because 3.0 * 5.02 = 15.06 ≥ 8.02 = 3.0 + 5.02.\n",
    "\n",
    "Write a function:\n",
    "\n",
    "    def solution(A, B):\n",
    "\n",
    "that, given arrays A and B, each containing N non-negative integers, returns the number of multiplicative pairs of indices.\n",
    "\n",
    "If the number of multiplicative pairs is greater than 1,000,000,000, the function should return 1,000,000,000.\n",
    "\n",
    "For example, given:\n",
    "\n",
    "  A[0] = 0\tB[0] = 500,000\n",
    "  \n",
    "  A[1] = 1\tB[1] = 500,000\n",
    "  \n",
    "  A[2] = 2\tB[2] = 0\n",
    "  \n",
    "  A[3] = 2\tB[3] = 0\n",
    "  \n",
    "  A[4] = 3\tB[4] = 0\n",
    "  \n",
    "  A[5] = 5\tB[5] = 20,000\n",
    "\n",
    "the function should return 8, as explained above.\n",
    "\n",
    "Write an algorithm for the following assumptions:\n",
    "\n",
    "        N is an integer within the range [0..100,000];\n",
    "        each element of array A is an integer within the range [0..1,000];\n",
    "        each element of array B is an integer within the range [0..999,999];\n",
    "        real numbers created from arrays are sorted in non-decreasing order."
   ]
  },
  {
   "cell_type": "code",
   "execution_count": 1,
   "metadata": {},
   "outputs": [],
   "source": [
    "import numpy as np"
   ]
  },
  {
   "cell_type": "markdown",
   "metadata": {},
   "source": [
    "Naive solution"
   ]
  },
  {
   "cell_type": "code",
   "execution_count": 2,
   "metadata": {},
   "outputs": [],
   "source": [
    "def brute_force_solution(A, B):\n",
    "    \n",
    "    # Loop in Loop\n",
    "   \n",
    "    assert len(A) == len (B), 'A & B must have same number of elements'\n",
    "    assert len(A) != 1      , 'number of elements must be > 1'\n",
    "\n",
    "    ans = 0  # initialize\n",
    "\n",
    "    C = np.array(A) + np.array(B)/1000000\n",
    "    \n",
    "    for i in range(len(A)):\n",
    "        for j in range(i):\n",
    "            if C[i]*C[j] >= C[i]+C[j]:\n",
    "                #print(i,j,'-----',1,'-----',C[i],C[j])\n",
    "                ans += 1\n",
    "        #    else:\n",
    "        #        print(i,j,'-----',0,'-----',C[i],C[j])\n",
    "        #print('-----------')\n",
    "        if ans >= 1000000000:\n",
    "            return 1000000000\n",
    "        \n",
    "    return ans"
   ]
  },
  {
   "cell_type": "markdown",
   "metadata": {},
   "source": [
    "We need to solve this equation:\n",
    "\n",
    "`xy >= x+y` <br>\n",
    "`(x-1)y >= x` <br>\n",
    "This is a hyperbola with center (1,1) in xy plane, vertices (0,0) & (2,2), and asymptotes `x=1` and `y=1` \n",
    "\n",
    "we can see that:\n",
    "\n",
    "    -If 0 ≤ C[P] < 1, then (a, b) is multiplicative only if C[P] = 0\n",
    "    -If 1 < C[P] < 2, then C[Q] > 2. So, C[Q] > C[P], \n",
    "    but that contradicts C[P] ≥ C[Q] (given the array is sorted and function is monotonic).\n",
    "    -If C[P] > 2 then the pair is multiplicative for any C[Q] where C[Q] ≥ C[P] / (C[P] - 1)\n"
   ]
  },
  {
   "cell_type": "code",
   "execution_count": 3,
   "metadata": {},
   "outputs": [],
   "source": [
    "def hyperbola_solution(A,B):\n",
    "    \n",
    "    ans = 0  # initialize\n",
    "    \n",
    "    C = np.array(A) + np.array(B)/1000000\n",
    "    \n",
    "    # Add zero pairs\n",
    "    zero_pairs = np.count_nonzero(C==0)\n",
    "    ans = int(zero_pairs*(zero_pairs-1)/2)\n",
    "           \n",
    "    hi_index = len(C) - 1\n",
    "    \n",
    "    # Skip all C[i] less than 1\n",
    "    for lo_index in range(hi_index):\n",
    "        if (C[lo_index] > 1):\n",
    "            break\n",
    "            \n",
    "    while (hi_index > lo_index):\n",
    "        v = C[hi_index] / (C[hi_index] - 1)\n",
    "        \n",
    "        while (lo_index < hi_index and C[lo_index] < v):\n",
    "            lo_index+=1\n",
    "            \n",
    "        if lo_index == hi_index:\n",
    "            break\n",
    "            \n",
    "        ans += (hi_index - lo_index)\n",
    "        \n",
    "        if ans >= 1000000000:\n",
    "            return 1000000000\n",
    "        \n",
    "        hi_index-=1\n",
    "        \n",
    "    return ans"
   ]
  },
  {
   "cell_type": "code",
   "execution_count": 4,
   "metadata": {},
   "outputs": [
    {
     "data": {
      "text/plain": [
       "8"
      ]
     },
     "execution_count": 4,
     "metadata": {},
     "output_type": "execute_result"
    }
   ],
   "source": [
    "hyperbola_solution(np.array([0,1,2,2,3,5]),[500000,500000,0,0,0,20000])"
   ]
  },
  {
   "cell_type": "code",
   "execution_count": 5,
   "metadata": {},
   "outputs": [
    {
     "data": {
      "text/plain": [
       "9"
      ]
     },
     "execution_count": 5,
     "metadata": {},
     "output_type": "execute_result"
    }
   ],
   "source": [
    "hyperbola_solution(np.array([0,0,0,1,2,2,3,5]),[0,0,500000,500000,0,0,0,20000])"
   ]
  },
  {
   "cell_type": "code",
   "execution_count": 6,
   "metadata": {},
   "outputs": [
    {
     "data": {
      "text/plain": [
       "9"
      ]
     },
     "execution_count": 6,
     "metadata": {},
     "output_type": "execute_result"
    }
   ],
   "source": [
    "brute_force_solution(np.array([0,0,0,1,2,2,3,5]),[0,0,500000,500000,0,0,0,20000])"
   ]
  },
  {
   "cell_type": "markdown",
   "metadata": {},
   "source": [
    "Testing on a random array of size 500"
   ]
  },
  {
   "cell_type": "code",
   "execution_count": 7,
   "metadata": {},
   "outputs": [],
   "source": [
    "A = np.random.randint(1000   , size=(500))\n",
    "B = np.random.randint(1000000, size=(500))\n",
    "\n",
    "C = A + B/1000000\n",
    "\n",
    "C = np.sort(C)\n",
    "\n",
    "A = C.astype(int)\n",
    "B = C-A"
   ]
  },
  {
   "cell_type": "code",
   "execution_count": 8,
   "metadata": {},
   "outputs": [
    {
     "data": {
      "text/plain": [
       "124251"
      ]
     },
     "execution_count": 8,
     "metadata": {},
     "output_type": "execute_result"
    }
   ],
   "source": [
    "brute_force_solution(A,B)"
   ]
  },
  {
   "cell_type": "code",
   "execution_count": 9,
   "metadata": {},
   "outputs": [
    {
     "data": {
      "text/plain": [
       "124251"
      ]
     },
     "execution_count": 9,
     "metadata": {},
     "output_type": "execute_result"
    }
   ],
   "source": [
    "hyperbola_solution(A,B)"
   ]
  },
  {
   "cell_type": "code",
   "execution_count": 10,
   "metadata": {},
   "outputs": [
    {
     "name": "stdout",
     "output_type": "stream",
     "text": [
      "81.9 ms ± 1.39 ms per loop (mean ± std. dev. of 7 runs, 10 loops each)\n"
     ]
    }
   ],
   "source": [
    "%timeit brute_force_solution(A,B)"
   ]
  },
  {
   "cell_type": "code",
   "execution_count": 11,
   "metadata": {},
   "outputs": [
    {
     "name": "stdout",
     "output_type": "stream",
     "text": [
      "424 µs ± 1.28 µs per loop (mean ± std. dev. of 7 runs, 1000 loops each)\n"
     ]
    }
   ],
   "source": [
    "%timeit hyperbola_solution(A,B)"
   ]
  },
  {
   "cell_type": "code",
   "execution_count": 12,
   "metadata": {},
   "outputs": [
    {
     "data": {
      "text/plain": [
       "1000000000"
      ]
     },
     "execution_count": 12,
     "metadata": {},
     "output_type": "execute_result"
    }
   ],
   "source": [
    "A = np.random.randint(1000   , size=(300000))\n",
    "B = np.random.randint(1000000, size=(300000))\n",
    "C = A + B/1000000\n",
    "\n",
    "C = np.sort(C)\n",
    "\n",
    "A = C.astype(int)\n",
    "B = C-A\n",
    "hyperbola_solution(A,B)"
   ]
  }
 ],
 "metadata": {
  "kernelspec": {
   "display_name": "Python 3",
   "language": "python",
   "name": "python3"
  },
  "language_info": {
   "codemirror_mode": {
    "name": "ipython",
    "version": 3
   },
   "file_extension": ".py",
   "mimetype": "text/x-python",
   "name": "python",
   "nbconvert_exporter": "python",
   "pygments_lexer": "ipython3",
   "version": "3.6.9"
  }
 },
 "nbformat": 4,
 "nbformat_minor": 4
}
